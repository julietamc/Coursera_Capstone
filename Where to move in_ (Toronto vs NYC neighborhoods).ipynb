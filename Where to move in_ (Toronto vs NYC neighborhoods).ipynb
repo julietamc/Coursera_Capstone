{
 "cells": [
  {
   "cell_type": "markdown",
   "metadata": {
    "collapsed": true
   },
   "source": [
    "# Where to move in? \n",
    "### (Toronto vs NYC neiborhoods)"
   ]
  },
  {
   "cell_type": "markdown",
   "metadata": {},
   "source": [
    "![alt text](https://images.squarespace-cdn.com/content/v1/5d3c9dfcd2e1860001acb51d/1568582007983-1EUG6EDVM54MHIEMYZEU/ke17ZwdGBToddI8pDm48kPfW58HQawIq7Ev7Hj3E5hxZw-zPPgdn4jUwVcJE1ZvWQUxwkmyExglNqGp0IvTJZUJFbgE-7XRK3dMEBRBhUpwZby2dJfdmC6uznuCz-gLnlBU1V3UIa9Xyt9ajd4Zc9pT0nIw4OBGb5aJH_SxB8e0/Toronto+Vs.+NYC \"Logo Title Text 1\")"
   ]
  },
  {
   "cell_type": "markdown",
   "metadata": {},
   "source": [
    "## 1. Discussion and Background of the Business Problem:\n",
    "### Problem Statement: Make long distance moving an easier decision\n",
    "\n",
    "In these times of globalization is very usual that people moves from one city to another, even from one country to another for professional or academical reasons. For some, this decision is pleasant and a choice, but for some others is really hard and stressful. Leaving all the familiy, friends, traditions behind makes the task much more difficult. However, we could try to make this decision a bit easier by comparing multiple cities and find similarities of their neighborhoods in order to choose the one that will make you feel more comfortable. \n",
    "\n",
    "Between 1993 and 2013 USA was in the TOP 5 countries of immigration to Canada and Canada in the TOP 15 countries to USA. For this reason I find it representative to center the analysis in two cities: NYC and Toronto. So if you currently live in East Toronto, which NYC neighborhood would be the most suitable for you to move in? This is the question we will answer at the end of the analysis, but first let me walk you through all the steps of the project in this long journey from NYC to Toronto or viceversa."
   ]
  },
  {
   "cell_type": "markdown",
   "metadata": {},
   "source": [
    "## 2. Description of the data used for the analysis:\n",
    "In this analysis I will use multiple datasets coming from different sources\n",
    "- From the **UN**   \n",
    "    *'International migration flows to and from selected countries: The 2015 revision.'* We will use USA and Canada data files only.   \n",
    "\tThe dataset contains annual data on the flows of international migrants as recorded by the countries of destination. The data presents both inflows and outflows according to the place of birth, citizenship or place of previous / next residence both for foreigners and nationals. The current version presents data available from 45 countries.  \n",
    "\tsource: https://www.un.org/en/development/desa/population/migration/data/empirical2/migrationflows.asp#\n",
    "    \n",
    "\t\n",
    "- From **NYU** (IBM downloaded version)  \n",
    "\t*'2014 New York City Neighborhood Names'*  \n",
    "\tTo get a list of the NYC neighborhoods with coordinates.  \n",
    "    source:https://geo.nyu.edu/catalog/nyu_2451_34572  \n",
    "    source used: https://cocl.us/new_york_dataset\n",
    "\t\n",
    "    \n",
    "- From **Wikipedia**  \n",
    "\t*'List of postal codes of Canada: M.'*      \n",
    "\tIt contains full list of the neighborhoods around Toronto by Postal Code  \n",
    "    source: https://en.wikipedia.org/wiki/List_of_postal_codes_of_Canada:_M\n",
    "\t\n",
    "    \n",
    "- **Geocoder API**  \n",
    "\tTo get the coordinates of Toronto neighborhoods and NYC\n",
    "    \n",
    "\t\n",
    "- **Foursquare venues API**  \n",
    "\tWill give us the list of venues for each neighborhood in order to make the comparison between them\n",
    "    \n",
    "#### STEPS TO FOLLOW\n",
    "- First we will need to obtain the coordinates of NYC and Toronto neighborhoods.  \n",
    "For that purpose we will use *2014 New York City Neighborhood Names*. In case of Toronto we will need an extra step cause coordinates are not available in the Wikipedia *List of postal codes of Canada: M.*. That's how we will use Geocoder to get the coordinates from the Postal Codes given in the list. After that, we will merge Toronto's and NYC coordinates list into the same dataset in order to manage alltogether.  \n",
    "- With the list of centroids obtained in the previous step, we will run the Foursquare API in order to find all the venues located around those places \n",
    "- Afterwards by using the k-means algorithm we will determine the similarities on the neighborhoods\n"
   ]
  }
 ],
 "metadata": {
  "kernelspec": {
   "display_name": "Python 3.6",
   "language": "python",
   "name": "python3"
  },
  "language_info": {
   "codemirror_mode": {
    "name": "ipython",
    "version": 3
   },
   "file_extension": ".py",
   "mimetype": "text/x-python",
   "name": "python",
   "nbconvert_exporter": "python",
   "pygments_lexer": "ipython3",
   "version": "3.6.9"
  }
 },
 "nbformat": 4,
 "nbformat_minor": 1
}
